{
 "cells": [
  {
   "cell_type": "code",
   "execution_count": 1,
   "id": "fe003417-e1d6-4c2e-b3f6-b6eddd7d8beb",
   "metadata": {},
   "outputs": [],
   "source": [
    "import pandas as pd\n",
    "import numpy as np\n",
    "import re\n",
    "import string\n",
    "import matplotlib.pyplot as plt\n",
    "import seaborn as sns\n",
    "\n",
    "from sklearn.model_selection import train_test_split\n",
    "from sklearn.feature_extraction.text import TfidfVectorizer\n",
    "from sklearn.linear_model import LogisticRegression\n",
    "from sklearn.metrics import accuracy_score, classification_report, confusion_matrix\n"
   ]
  },
  {
   "cell_type": "code",
   "execution_count": 7,
   "id": "57726b3b-6be5-44a1-b3ae-63bad2d64644",
   "metadata": {},
   "outputs": [
    {
     "name": "stdout",
     "output_type": "stream",
     "text": [
      "                               Review Sentiment\n",
      "0                I love this product!  Positive\n",
      "1      Absolutely terrible experience  Negative\n",
      "2     Great quality and fast shipping  Positive\n",
      "3                 Not worth the money  Negative\n",
      "4  Amazing service and friendly staff  Positive\n",
      "Review,Sentiment\n",
      "\"I love this product!\",Positive\n",
      "\"Absolutely terrible experience\",Negative\n",
      "\"Great quality and fast shipping\",Positive\n",
      "\"Not worth the money\",Negative\n",
      "\"Amazing service and friendly staff\",Positive\n",
      "\"Will never buy this again\",Negative\n",
      "\"Exceeded my expectations!\",Positive\n",
      "\"Completely disappointed\",Negative\n",
      "\"Very helpful customer support\",Positive\n",
      "\"The product broke after one use\",Negative\n",
      "\"Highly recommend to everyone\",Positive\n",
      "\"Received a damaged item\",Negative\n",
      "\"Superb quality and packaging\",Positive\n",
      "\"It stopped working in a week\",Negative\n",
      "\"Happy with the purchase\",Positive\n",
      "\"Total waste of money\",Negative\n",
      "\"The item arrived on time\",Positive\n",
      "\"Packaging was torn and dirty\",Negative\n",
      "\"Fantastic! Would buy again\",Positive\n",
      "\"Terrible. I want a refund\",Negative\n",
      "\n"
     ]
    }
   ],
   "source": [
    "import pandas as pd\n",
    "\n",
    "# Load the .txt file as if it's a CSV\n",
    "df = pd.read_csv('sample_reviews.txt')  # Treats comma-separated text as CSV\n",
    "print(df.head())\n",
    "with open(\"sample_reviews.txt\", \"r\") as f:\n",
    "    print(f.read())\n"
   ]
  },
  {
   "cell_type": "code",
   "execution_count": 12,
   "id": "4a86009e-0719-4617-b86b-00280bed3087",
   "metadata": {},
   "outputs": [
    {
     "name": "stdout",
     "output_type": "stream",
     "text": [
      "Sample data:\n",
      "\n",
      "                               Review Sentiment\n",
      "0                I love this product!  Positive\n",
      "1      Absolutely terrible experience  Negative\n",
      "2     Great quality and fast shipping  Positive\n",
      "3                 Not worth the money  Negative\n",
      "4  Amazing service and friendly staff  Positive\n",
      "\n",
      "Accuracy: 0.25\n",
      "\n",
      "Classification Report:\n",
      "               precision    recall  f1-score   support\n",
      "\n",
      "    Negative       0.00      0.00      0.00         3\n",
      "    Positive       0.25      1.00      0.40         1\n",
      "\n",
      "    accuracy                           0.25         4\n",
      "   macro avg       0.12      0.50      0.20         4\n",
      "weighted avg       0.06      0.25      0.10         4\n",
      "\n",
      "\n",
      "Confusion Matrix:\n",
      " [[0 3]\n",
      " [0 1]]\n"
     ]
    },
    {
     "name": "stderr",
     "output_type": "stream",
     "text": [
      "C:\\Python312\\Lib\\site-packages\\sklearn\\metrics\\_classification.py:1531: UndefinedMetricWarning: Precision is ill-defined and being set to 0.0 in labels with no predicted samples. Use `zero_division` parameter to control this behavior.\n",
      "  _warn_prf(average, modifier, f\"{metric.capitalize()} is\", len(result))\n",
      "C:\\Python312\\Lib\\site-packages\\sklearn\\metrics\\_classification.py:1531: UndefinedMetricWarning: Precision is ill-defined and being set to 0.0 in labels with no predicted samples. Use `zero_division` parameter to control this behavior.\n",
      "  _warn_prf(average, modifier, f\"{metric.capitalize()} is\", len(result))\n",
      "C:\\Python312\\Lib\\site-packages\\sklearn\\metrics\\_classification.py:1531: UndefinedMetricWarning: Precision is ill-defined and being set to 0.0 in labels with no predicted samples. Use `zero_division` parameter to control this behavior.\n",
      "  _warn_prf(average, modifier, f\"{metric.capitalize()} is\", len(result))\n"
     ]
    }
   ],
   "source": [
    "import pandas as pd\n",
    "from sklearn.model_selection import train_test_split\n",
    "from sklearn.feature_extraction.text import TfidfVectorizer\n",
    "from sklearn.linear_model import LogisticRegression\n",
    "from sklearn.metrics import accuracy_score, classification_report, confusion_matrix\n",
    "\n",
    "# Load the dataset (assumes it's comma-separated even if it's a .txt file)\n",
    "df = pd.read_csv('sample_reviews.txt')\n",
    "\n",
    "# Show sample data\n",
    "print(\"Sample data:\\n\")\n",
    "print(df.head())\n",
    "\n",
    "# Split into features and labels\n",
    "X = df['Review']\n",
    "y = df['Sentiment']\n",
    "\n",
    "# Convert text data to TF-IDF vectors\n",
    "vectorizer = TfidfVectorizer(stop_words='english')\n",
    "X_tfidf = vectorizer.fit_transform(X)\n",
    "\n",
    "# Split the data into training and test sets\n",
    "X_train, X_test, y_train, y_test = train_test_split(X_tfidf, y, test_size=0.2, random_state=42)\n",
    "\n",
    "# Train the logistic regression model\n",
    "model = LogisticRegression()\n",
    "model.fit(X_train, y_train)\n",
    "\n",
    "# Predict sentiment for test data\n",
    "y_pred = model.predict(X_test)\n",
    "\n",
    "# Evaluate model\n",
    "print(\"\\nAccuracy:\", accuracy_score(y_test, y_pred))\n",
    "print(\"\\nClassification Report:\\n\", classification_report(y_test, y_pred))\n",
    "print(\"\\nConfusion Matrix:\\n\", confusion_matrix(y_test, y_pred))\n"
   ]
  },
  {
   "cell_type": "code",
   "execution_count": 13,
   "id": "515918f0-29b1-412b-96e5-d9aea85669a4",
   "metadata": {},
   "outputs": [
    {
     "name": "stdin",
     "output_type": "stream",
     "text": [
      "\n",
      "Enter a review (or type 'exit' to quit):  Great Product\n"
     ]
    },
    {
     "name": "stdout",
     "output_type": "stream",
     "text": [
      "Predicted Sentiment: Positive\n"
     ]
    },
    {
     "name": "stdin",
     "output_type": "stream",
     "text": [
      "\n",
      "Enter a review (or type 'exit' to quit):  bad product\n"
     ]
    },
    {
     "name": "stdout",
     "output_type": "stream",
     "text": [
      "Predicted Sentiment: Positive\n"
     ]
    },
    {
     "name": "stdin",
     "output_type": "stream",
     "text": [
      "\n",
      "Enter a review (or type 'exit' to quit):  worst product\n"
     ]
    },
    {
     "name": "stdout",
     "output_type": "stream",
     "text": [
      "Predicted Sentiment: Positive\n"
     ]
    },
    {
     "name": "stdin",
     "output_type": "stream",
     "text": [
      "\n",
      "Enter a review (or type 'exit' to quit):  exit\n"
     ]
    }
   ],
   "source": [
    "while True:\n",
    "    user_input = input(\"\\nEnter a review (or type 'exit' to quit): \")\n",
    "    if user_input.lower() == 'exit':\n",
    "        break\n",
    "\n",
    "    # Transform the input using the same TF-IDF vectorizer\n",
    "    input_tfidf = vectorizer.transform([user_input])\n",
    "\n",
    "    # Predict sentiment\n",
    "    prediction = model.predict(input_tfidf)\n",
    "\n",
    "    print(\"Predicted Sentiment:\", prediction[0])\n"
   ]
  },
  {
   "cell_type": "code",
   "execution_count": null,
   "id": "c8b6bd28-ad7a-4ae1-afa5-f15dda1f4211",
   "metadata": {},
   "outputs": [],
   "source": []
  }
 ],
 "metadata": {
  "kernelspec": {
   "display_name": "Python 3 (ipykernel)",
   "language": "python",
   "name": "python3"
  },
  "language_info": {
   "codemirror_mode": {
    "name": "ipython",
    "version": 3
   },
   "file_extension": ".py",
   "mimetype": "text/x-python",
   "name": "python",
   "nbconvert_exporter": "python",
   "pygments_lexer": "ipython3",
   "version": "3.12.3"
  }
 },
 "nbformat": 4,
 "nbformat_minor": 5
}
